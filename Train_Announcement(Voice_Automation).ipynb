{
  "cells": [
    {
      "cell_type": "code",
      "execution_count": 1,
      "id": "7023a552",
      "metadata": {
        "id": "7023a552"
      },
      "outputs": [],
      "source": [
        "import requests\n",
        "import pandas as pd\n",
        "from bs4 import BeautifulSoup as bs"
      ]
    },
    {
      "cell_type": "code",
      "execution_count": 2,
      "id": "3f55da4e",
      "metadata": {
        "id": "3f55da4e"
      },
      "outputs": [],
      "source": [
        "url = \"https://erail.in/trains-between-stations/pune-jn-PUNE/mumbai-central-BCT\""
      ]
    },
    {
      "cell_type": "code",
      "execution_count": 3,
      "id": "467c6561",
      "metadata": {
        "id": "467c6561"
      },
      "outputs": [],
      "source": [
        "source=requests.get(url)\n",
        "soup=bs(source.content,'html.parser')"
      ]
    },
    {
      "cell_type": "code",
      "execution_count": 4,
      "id": "71a37907",
      "metadata": {
        "id": "71a37907"
      },
      "outputs": [],
      "source": [
        "# soup.prettify()"
      ]
    },
    {
      "cell_type": "code",
      "execution_count": 5,
      "id": "b2f5820c",
      "metadata": {
        "id": "b2f5820c"
      },
      "outputs": [],
      "source": [
        "res=soup.find_all('div',class_='OneTrain')\n",
        "# res"
      ]
    },
    {
      "cell_type": "code",
      "execution_count": 6,
      "id": "9ffb2481",
      "metadata": {
        "id": "9ffb2481"
      },
      "outputs": [],
      "source": [
        "a=[]\n",
        "for i in res:\n",
        "    a.append(i.text)\n",
        "train_no_name=[]\n",
        "for i in a:\n",
        "    train_no_name.append(i.split('\\n')[2])\n",
        "\n",
        "train_no=[]\n",
        "for i in train_no_name:\n",
        "    train_no.append(i.split(' ',1))\n",
        "Train_no=[]\n",
        "for i in train_no:\n",
        "    Train_no.append(i[0])\n",
        "# print(Train_no)"
      ]
    },
    {
      "cell_type": "code",
      "execution_count": 7,
      "id": "f7fcf77a",
      "metadata": {
        "id": "f7fcf77a"
      },
      "outputs": [],
      "source": [
        "Train_name=[]\n",
        "for i in train_no:\n",
        "    Train_name.append(i[1])\n",
        "# Train_name"
      ]
    },
    {
      "cell_type": "code",
      "execution_count": 8,
      "id": "341a4765",
      "metadata": {
        "id": "341a4765"
      },
      "outputs": [],
      "source": [
        "j=[]\n",
        "for i in res:\n",
        "    j.append(str(i))\n",
        "#j\n",
        "b=[]\n",
        "for g in j:\n",
        "    #print(g)\n",
        "    b.append(g.split('_'))\n",
        "#b\n",
        "from_=[]\n",
        "for i in b:\n",
        "    from_.append(i[2])\n",
        "From=[]\n",
        "for i in from_:\n",
        "    if i=='PNVL':\n",
        "        From.append(i.replace('PNVL', \"Panvel\"))\n",
        "    elif i=='KYN':\n",
        "        From.append(i.replace('KYN', \"Kalyan\"))\n",
        "    elif i=='BSR':\n",
        "        From.append(i.replace('BSR', \"Vasairoad\"))\n",
        "    else:\n",
        "        From.append(i.replace('DR', \"Dadar Central\"))\n",
        "# From"
      ]
    },
    {
      "cell_type": "code",
      "execution_count": 9,
      "id": "e8b1221f",
      "metadata": {
        "id": "e8b1221f"
      },
      "outputs": [],
      "source": [
        "j=[]\n",
        "for i in res:\n",
        "    j.append(str(i))\n",
        "# j\n",
        "b=[]\n",
        "for g in j:\n",
        "    #print(g)\n",
        "    b.append(g.split('_'))\n",
        "#b\n",
        "from_=[]\n",
        "for i in b:\n",
        "    from_.append(i[2])\n",
        "From=[]\n",
        "for i in from_:\n",
        "    if i=='PUNE':\n",
        "         From.append(i.replace('PUNE', \"Pune JN\")) \n",
        "# print(From)"
      ]
    },
    {
      "cell_type": "code",
      "execution_count": 10,
      "id": "204b4f03",
      "metadata": {
        "colab": {
          "base_uri": "https://localhost:8080/"
        },
        "id": "204b4f03",
        "outputId": "d7ef1416-71bb-4f18-b5b5-e1233286795f"
      },
      "outputs": [
        {
          "output_type": "execute_result",
          "data": {
            "text/plain": [
              "datetime.date(2022, 9, 12)"
            ]
          },
          "metadata": {},
          "execution_count": 10
        }
      ],
      "source": [
        "from datetime import date\n",
        "x=date.today()\n",
        "c=(x.strftime(\"%d\"+\"-\"+\"%b\"))\n",
        "x"
      ]
    },
    {
      "cell_type": "code",
      "execution_count": 11,
      "id": "419dc1a8",
      "metadata": {
        "id": "419dc1a8"
      },
      "outputs": [],
      "source": [
        "dep=soup.find_all('div',{'class':'ArrDep bold Sorted'})\n",
        "\n",
        "dep_ti=[]\n",
        "for i in dep:\n",
        "    dep_ti.append(i.text)\n",
        "#dep_ti\n",
        "Dep_date=[]\n",
        "Dep_time=[]\n",
        "for j in dep_ti:\n",
        "    if len(j)==5:\n",
        "        Dep_time.append(j)\n",
        "        Dep_date.append(c)\n",
        "    elif len(j)>5:\n",
        "        Dep_time.append(j[:5])\n",
        "        Dep_date.append(j[5:])"
      ]
    },
    {
      "cell_type": "code",
      "execution_count": 12,
      "id": "a4869663",
      "metadata": {
        "id": "a4869663"
      },
      "outputs": [],
      "source": [
        "destination=[]\n",
        "for i in a:\n",
        "    destination.append(i.split('\\n')[3])\n",
        "\n",
        "# destination"
      ]
    },
    {
      "cell_type": "code",
      "execution_count": 13,
      "id": "e498a2b2",
      "metadata": {
        "id": "e498a2b2"
      },
      "outputs": [],
      "source": [
        "to=''\n",
        "travel_hr=''\n",
        "for i in destination:\n",
        "    for j in i:\n",
        "        if j.isnumeric():\n",
        "            travel_hr=travel_hr+j\n",
        "        else:\n",
        "            to=to+j         \n",
        "to=to.split('.')\n",
        "To=[]\n",
        "for i in to:\n",
        "    To.append(i.replace('hr',''))\n",
        "\n",
        "To=To[:-1] \n",
        "# To"
      ]
    },
    {
      "cell_type": "code",
      "execution_count": 14,
      "id": "25494bb8",
      "metadata": {
        "id": "25494bb8"
      },
      "outputs": [],
      "source": [
        "Arr_time=[]\n",
        "Arr_date=[]\n",
        "for i in b:\n",
        "    Arr_time.append(i[7])\n",
        "    \n",
        "#Arr_time\n",
        "for i in b:\n",
        "    Arr_date.append(i[6][:6])\n",
        "#Arr_date"
      ]
    },
    {
      "cell_type": "code",
      "execution_count": 15,
      "id": "66de8712",
      "metadata": {
        "id": "66de8712"
      },
      "outputs": [],
      "source": [
        "Travel_hr=''\n",
        "for j,i in enumerate(travel_hr):\n",
        "    Travel_hr=Travel_hr+i\n",
        "    if j==0:\n",
        "        continue\n",
        "    elif j==1:\n",
        "        Travel_hr=Travel_hr+'.'\n",
        "    elif j==2:\n",
        "        continue\n",
        "    elif j==3:\n",
        "        Travel_hr=Travel_hr+','\n",
        "    \n",
        "    elif j%4==1:\n",
        "        Travel_hr=Travel_hr+'.'\n",
        "    elif j%2==1:\n",
        "        Travel_hr=Travel_hr+','\n",
        "Travel_hr=Travel_hr.split(',')[:-1]\n",
        "# Travel_hr"
      ]
    },
    {
      "cell_type": "code",
      "execution_count": 16,
      "id": "dd99e93b",
      "metadata": {
        "id": "dd99e93b"
      },
      "outputs": [],
      "source": [
        "df=pd.DataFrame({'Train_no':Train_no,'Train_name':Train_name,'From':From,'Dep_date':Dep_date,'Dep_time':Dep_time,'To':To,'Arr_date':Arr_date,'Arr_time':Arr_time,'Travel_hr':Travel_hr})\n",
        "# df"
      ]
    },
    {
      "cell_type": "code",
      "execution_count": 17,
      "id": "ca826052",
      "metadata": {
        "id": "ca826052"
      },
      "outputs": [],
      "source": [
        "# df.to_csv('pune_Mum_train.csv')"
      ]
    },
    {
      "cell_type": "code",
      "execution_count": 18,
      "id": "b01acf14",
      "metadata": {
        "id": "b01acf14"
      },
      "outputs": [],
      "source": [
        "b=[]\n",
        "c=''\n",
        "for j,i in enumerate(df['Train_no']):\n",
        "    j\n",
        "    for i in df['Train_no'][j]:\n",
        "        c=c+i+' '\n",
        "    b.append(c)\n",
        "    c=''\n",
        "    \n",
        "df['Train_no']=b"
      ]
    },
    {
      "cell_type": "code",
      "execution_count": 21,
      "id": "21fdd333",
      "metadata": {
        "id": "21fdd333"
      },
      "outputs": [],
      "source": [
        "a=[]\n",
        "for i in df['Train_name']:\n",
        "    i=i+'-'\n",
        "    a.append(i.split())\n",
        "b=[]\n",
        "for i in a:\n",
        "    for j in i:\n",
        "        if len(j)>4:\n",
        "            b.append(j.capitalize())\n",
        "        else:\n",
        "            b.append(j)\n",
        "d=[]\n",
        "for i in b:\n",
        "    d.append(i.replace('EX-','Express-'))\n",
        "e=[]\n",
        "for i in d:\n",
        "    e.append(i.replace('EXP-','Express-'))\n",
        "f=''\n",
        "\n",
        "for i in e:\n",
        "    f=f+i+' '\n",
        "h=f.split('-')\n",
        "df['Train_name']=h[:-1]\n",
        "# df"
      ]
    },
    {
      "cell_type": "code",
      "execution_count": 22,
      "id": "713cfb6e",
      "metadata": {
        "colab": {
          "base_uri": "https://localhost:8080/"
        },
        "id": "713cfb6e",
        "outputId": "7ad9250b-5db0-4f35-cfca-cf457febb61b"
      },
      "outputs": [
        {
          "output_type": "stream",
          "name": "stdout",
          "text": [
            "Looking in indexes: https://pypi.org/simple, https://us-python.pkg.dev/colab-wheels/public/simple/\n",
            "Collecting gTTS\n",
            "  Downloading gTTS-2.2.4-py3-none-any.whl (26 kB)\n",
            "Requirement already satisfied: six in /usr/local/lib/python3.7/dist-packages (from gTTS) (1.15.0)\n",
            "Requirement already satisfied: requests in /usr/local/lib/python3.7/dist-packages (from gTTS) (2.23.0)\n",
            "Requirement already satisfied: click in /usr/local/lib/python3.7/dist-packages (from gTTS) (7.1.2)\n",
            "Requirement already satisfied: idna<3,>=2.5 in /usr/local/lib/python3.7/dist-packages (from requests->gTTS) (2.10)\n",
            "Requirement already satisfied: certifi>=2017.4.17 in /usr/local/lib/python3.7/dist-packages (from requests->gTTS) (2022.6.15)\n",
            "Requirement already satisfied: urllib3!=1.25.0,!=1.25.1,<1.26,>=1.21.1 in /usr/local/lib/python3.7/dist-packages (from requests->gTTS) (1.24.3)\n",
            "Requirement already satisfied: chardet<4,>=3.0.2 in /usr/local/lib/python3.7/dist-packages (from requests->gTTS) (3.0.4)\n",
            "Installing collected packages: gTTS\n",
            "Successfully installed gTTS-2.2.4\n"
          ]
        }
      ],
      "source": [
        "pip install gTTS"
      ]
    },
    {
      "cell_type": "code",
      "source": [
        "pip install pydub"
      ],
      "metadata": {
        "colab": {
          "base_uri": "https://localhost:8080/"
        },
        "id": "CuESK_GQIyvm",
        "outputId": "51beadab-7ffc-43c8-bb9a-fc5b8987783e"
      },
      "id": "CuESK_GQIyvm",
      "execution_count": 23,
      "outputs": [
        {
          "output_type": "stream",
          "name": "stdout",
          "text": [
            "Looking in indexes: https://pypi.org/simple, https://us-python.pkg.dev/colab-wheels/public/simple/\n",
            "Collecting pydub\n",
            "  Downloading pydub-0.25.1-py2.py3-none-any.whl (32 kB)\n",
            "Installing collected packages: pydub\n",
            "Successfully installed pydub-0.25.1\n"
          ]
        }
      ]
    },
    {
      "cell_type": "code",
      "source": [
        "from pydub import AudioSegment\n",
        "from gtts import gTTS"
      ],
      "metadata": {
        "id": "8c-T6wJwIyqK"
      },
      "id": "8c-T6wJwIyqK",
      "execution_count": 24,
      "outputs": []
    },
    {
      "cell_type": "code",
      "source": [
        "audio=AudioSegment.from_mp3('/content/Announcement_1 2 4 5 0.mp3')\n",
        "start=0\n",
        "end=3850\n",
        "audioProcessed=audio[start:end]\n",
        "audioProcessed.export('h1.mp3',format='mp3')"
      ],
      "metadata": {
        "colab": {
          "base_uri": "https://localhost:8080/"
        },
        "id": "zt7wcCiFIyno",
        "outputId": "0216f920-ca53-4303-abf8-5ec32aea5702"
      },
      "id": "zt7wcCiFIyno",
      "execution_count": 26,
      "outputs": [
        {
          "output_type": "execute_result",
          "data": {
            "text/plain": [
              "<_io.BufferedRandom name='h1.mp3'>"
            ]
          },
          "metadata": {},
          "execution_count": 26
        }
      ]
    },
    {
      "cell_type": "code",
      "source": [
        "audio=AudioSegment.from_mp3('/content/Announcement_1 2 4 5 0.mp3')\n",
        "start=9300\n",
        "end=10000\n",
        "audioProcessed=audio[start:end]\n",
        "audioProcessed.export('h2.mp3',format='mp3')"
      ],
      "metadata": {
        "colab": {
          "base_uri": "https://localhost:8080/"
        },
        "id": "7dByn3s4Iyk4",
        "outputId": "1d963b14-553c-4a69-e6b8-e3f1c0a05682"
      },
      "id": "7dByn3s4Iyk4",
      "execution_count": 27,
      "outputs": [
        {
          "output_type": "execute_result",
          "data": {
            "text/plain": [
              "<_io.BufferedRandom name='h2.mp3'>"
            ]
          },
          "metadata": {},
          "execution_count": 27
        }
      ]
    },
    {
      "cell_type": "code",
      "source": [
        "audio=AudioSegment.from_mp3('/content/Announcement_1 2 4 5 0.mp3')\n",
        "start=12000\n",
        "end=12800\n",
        "audioProcessed=audio[start:end]\n",
        "audioProcessed.export('h3.mp3',format='mp3')"
      ],
      "metadata": {
        "colab": {
          "base_uri": "https://localhost:8080/"
        },
        "id": "m4kbUn5lIyiP",
        "outputId": "73d6d4c9-0e00-4422-bb25-510f8234cac4"
      },
      "id": "m4kbUn5lIyiP",
      "execution_count": 28,
      "outputs": [
        {
          "output_type": "execute_result",
          "data": {
            "text/plain": [
              "<_io.BufferedRandom name='h3.mp3'>"
            ]
          },
          "metadata": {},
          "execution_count": 28
        }
      ]
    },
    {
      "cell_type": "code",
      "source": [
        "audio=AudioSegment.from_mp3('/content/Announcement_1 2 4 5 0.mp3')\n",
        "start=13800\n",
        "end=16800\n",
        "audioProcessed=audio[start:end]\n",
        "audioProcessed.export('h4.mp3',format='mp3')"
      ],
      "metadata": {
        "colab": {
          "base_uri": "https://localhost:8080/"
        },
        "id": "uzA2byx9Iyfn",
        "outputId": "447b4ef1-4f1e-4018-ab41-70dc70cb8c5a"
      },
      "id": "uzA2byx9Iyfn",
      "execution_count": 29,
      "outputs": [
        {
          "output_type": "execute_result",
          "data": {
            "text/plain": [
              "<_io.BufferedRandom name='h4.mp3'>"
            ]
          },
          "metadata": {},
          "execution_count": 29
        }
      ]
    },
    {
      "cell_type": "code",
      "source": [
        "audio=AudioSegment.from_mp3('/content/Announcement_1 2 4 5 0.mp3')\n",
        "start=17800\n",
        "end=23600\n",
        "audioProcessed=audio[start:end]\n",
        "audioProcessed.export('h5.mp3',format='mp3')"
      ],
      "metadata": {
        "colab": {
          "base_uri": "https://localhost:8080/"
        },
        "id": "xP_gw_P_Iycj",
        "outputId": "79708572-d796-47e1-ec4e-7461e8fd90f1"
      },
      "id": "xP_gw_P_Iycj",
      "execution_count": 30,
      "outputs": [
        {
          "output_type": "execute_result",
          "data": {
            "text/plain": [
              "<_io.BufferedRandom name='h5.mp3'>"
            ]
          },
          "metadata": {},
          "execution_count": 30
        }
      ]
    },
    {
      "cell_type": "code",
      "source": [
        "audio=AudioSegment.from_mp3('/content/Announcement_1 2 4 5 0.mp3')\n",
        "start=27800\n",
        "end=28500\n",
        "audioProcessed=audio[start:end]\n",
        "audioProcessed.export('h6.mp3',format='mp3')"
      ],
      "metadata": {
        "colab": {
          "base_uri": "https://localhost:8080/"
        },
        "id": "IwOnt6UVIyaG",
        "outputId": "b797967a-27da-45b8-d919-2277ad2cfe4c"
      },
      "id": "IwOnt6UVIyaG",
      "execution_count": 31,
      "outputs": [
        {
          "output_type": "execute_result",
          "data": {
            "text/plain": [
              "<_io.BufferedRandom name='h6.mp3'>"
            ]
          },
          "metadata": {},
          "execution_count": 31
        }
      ]
    },
    {
      "cell_type": "code",
      "source": [
        "audio=AudioSegment.from_mp3('/content/Announcement_1 2 4 5 0.mp3')\n",
        "start=29500\n",
        "end=30200\n",
        "audioProcessed=audio[start:end]\n",
        "audioProcessed.export('h7.mp3',format='mp3')"
      ],
      "metadata": {
        "colab": {
          "base_uri": "https://localhost:8080/"
        },
        "id": "hwbNqtd-IyXW",
        "outputId": "f224b98e-3ed5-41ff-df91-3225e7626320"
      },
      "id": "hwbNqtd-IyXW",
      "execution_count": 32,
      "outputs": [
        {
          "output_type": "execute_result",
          "data": {
            "text/plain": [
              "<_io.BufferedRandom name='h7.mp3'>"
            ]
          },
          "metadata": {},
          "execution_count": 32
        }
      ]
    },
    {
      "cell_type": "code",
      "source": [
        "audio=AudioSegment.from_mp3('/content/Announcement_1 2 4 5 0.mp3')\n",
        "start=31000\n",
        "end=31800\n",
        "audioProcessed=audio[start:end]\n",
        "audioProcessed.export('h8.mp3',format='mp3')"
      ],
      "metadata": {
        "colab": {
          "base_uri": "https://localhost:8080/"
        },
        "id": "OVH7D7W9IyUW",
        "outputId": "9057a201-a69b-46cb-aa0a-80d8b4703017"
      },
      "id": "OVH7D7W9IyUW",
      "execution_count": 33,
      "outputs": [
        {
          "output_type": "execute_result",
          "data": {
            "text/plain": [
              "<_io.BufferedRandom name='h8.mp3'>"
            ]
          },
          "metadata": {},
          "execution_count": 33
        }
      ]
    },
    {
      "cell_type": "code",
      "source": [
        "audio=AudioSegment.from_mp3('/content/Announcement_1 2 4 5 0.mp3')\n",
        "start=33800\n",
        "end=37000\n",
        "audioProcessed=audio[start:end]\n",
        "audioProcessed.export('h9.mp3',format='mp3')"
      ],
      "metadata": {
        "colab": {
          "base_uri": "https://localhost:8080/"
        },
        "id": "Mn5wWgCDIyRf",
        "outputId": "98fc3ead-d9c7-4852-aa72-6b05a097f141"
      },
      "id": "Mn5wWgCDIyRf",
      "execution_count": 34,
      "outputs": [
        {
          "output_type": "execute_result",
          "data": {
            "text/plain": [
              "<_io.BufferedRandom name='h9.mp3'>"
            ]
          },
          "metadata": {},
          "execution_count": 34
        }
      ]
    },
    {
      "cell_type": "code",
      "source": [
        "audio=AudioSegment.from_mp3('/content/Announcement_1 2 4 5 0.mp3')\n",
        "start=37500\n",
        "end=39800\n",
        "audioProcessed=audio[start:end]\n",
        "audioProcessed.export('h10.mp3',format='mp3')"
      ],
      "metadata": {
        "colab": {
          "base_uri": "https://localhost:8080/"
        },
        "id": "j5Y97vAjJS8X",
        "outputId": "0cacc24e-125d-4767-acbd-21c7a73571e3"
      },
      "id": "j5Y97vAjJS8X",
      "execution_count": 35,
      "outputs": [
        {
          "output_type": "execute_result",
          "data": {
            "text/plain": [
              "<_io.BufferedRandom name='h10.mp3'>"
            ]
          },
          "metadata": {},
          "execution_count": 35
        }
      ]
    },
    {
      "cell_type": "code",
      "source": [
        "def train_announcement():\n",
        "  for i in range(len(df)):\n",
        "    Train_no=df['Train_no'][i]+' '+df['Train_name'][i]\n",
        "    language = 'hi'\n",
        "    myobj = gTTS(text=Train_no,lang=language,slow=True)\n",
        "    myobj.save('a1.mp3')\n",
        "    From = df['From'][i]\n",
        "    language = 'hi'\n",
        "    myobj = gTTS(text=From,lang=language,slow=True)\n",
        "    myobj.save('a2.mp3')\n",
        "    From = df['To'][i]\n",
        "    language = 'hi'\n",
        "    myobj = gTTS(text=From,lang=language,slow=True)\n",
        "    myobj.save('a3.mp3')\n",
        "    Train_no=df['Train_no'][i]+' '+df['Train_name'][i]\n",
        "    language = 'hi'\n",
        "    myobj = gTTS(text=Train_no,lang=language,slow=True)\n",
        "    myobj.save('e1.mp3')\n",
        "    mytext ='Lonavla' \n",
        "    language = 'hi'\n",
        "    myobj = gTTS(text=mytext,lang=language,slow=True)\n",
        "    myobj.save('a6.mp3')\n",
        "    mytext ='2' \n",
        "    language = 'hi'\n",
        "    myobj = gTTS(text=mytext,lang=language,slow=True)\n",
        "    myobj.save('a4.mp3')\n",
        "    mytext ='2' \n",
        "    language = 'en'\n",
        "    myobj = gTTS(text=mytext,lang=language,slow=True)\n",
        "    myobj.save('a5.mp3')\n",
        "    me=AudioSegment.empty()\n",
        "    me=me+AudioSegment.from_mp3('/content/h1.mp3')+AudioSegment.from_mp3('/content/a1.mp3')+AudioSegment.from_mp3('/content/a2.mp3')+AudioSegment.from_mp3('/content/h2.mp3')+AudioSegment.from_mp3('/content/a6.mp3')+AudioSegment.from_mp3('/content/h3.mp3')+AudioSegment.from_mp3('/content/a3.mp3')+AudioSegment.from_mp3('/content/h4.mp3')+AudioSegment.from_mp3('/content/a4.mp3')+AudioSegment.from_mp3('/content/h5.mp3')+AudioSegment.from_mp3('/content/e1.mp3')+AudioSegment.from_mp3('/content/h6.mp3')+AudioSegment.from_mp3('/content/a2.mp3')+AudioSegment.from_mp3('/content/h7.mp3')+AudioSegment.from_mp3('/content/a3.mp3')+AudioSegment.from_mp3('/content/h8.mp3')+AudioSegment.from_mp3('/content/a6.mp3')+AudioSegment.from_mp3('/content/h9.mp3')+AudioSegment.from_mp3('/content/a5.mp3')+AudioSegment.from_mp3('/content/h10.mp3')\n",
        "    me.export(f'Train{i+1}.mp3')\n",
        "# train_announcement()"
      ],
      "metadata": {
        "id": "ekCUZkvWJS1s"
      },
      "id": "ekCUZkvWJS1s",
      "execution_count": 38,
      "outputs": []
    }
  ],
  "metadata": {
    "kernelspec": {
      "display_name": "Python 3 (ipykernel)",
      "language": "python",
      "name": "python3"
    },
    "language_info": {
      "codemirror_mode": {
        "name": "ipython",
        "version": 3
      },
      "file_extension": ".py",
      "mimetype": "text/x-python",
      "name": "python",
      "nbconvert_exporter": "python",
      "pygments_lexer": "ipython3",
      "version": "3.9.7"
    },
    "colab": {
      "provenance": [],
      "collapsed_sections": []
    }
  },
  "nbformat": 4,
  "nbformat_minor": 5
}